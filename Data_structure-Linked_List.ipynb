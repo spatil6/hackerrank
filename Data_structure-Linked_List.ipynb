{
 "cells": [
  {
   "cell_type": "code",
   "execution_count": 2,
   "metadata": {
    "collapsed": false
   },
   "outputs": [],
   "source": [
    "#Print all elements from linked list\n",
    "\"\"\"\n",
    " Print elements of a linked list on console\n",
    " head input could be None as well for empty list\n",
    " Node is defined as\n",
    "\"\"\"\n",
    "class Node(object):\n",
    " \n",
    "   def __init__(self, data=None, next_node=None):\n",
    "       self.data = data\n",
    "       self.next = next_node\n",
    "\n",
    "def print_list(head):\n",
    "    if head is None:\n",
    "        return\n",
    "    node=head\n",
    "    while node:\n",
    "        print(node.data)\n",
    "        node=node.next\n"
   ]
  },
  {
   "cell_type": "code",
   "execution_count": 3,
   "metadata": {
    "collapsed": true
   },
   "outputs": [],
   "source": [
    "#Insert element at last in linked list\n",
    "class Node(object):\n",
    " \n",
    "   def __init__(self, data=None, next_node=None):\n",
    "       self.data = data\n",
    "       self.next = next_node\n",
    "\n",
    "def Insert(head, data):\n",
    "    if head is None:\n",
    "        head=Node()\n",
    "        head.data=data\n",
    "        return head\n",
    "    node =  Node()\n",
    "    node.data=data\n",
    "    node.next=None\n",
    "    node1=head\n",
    "    while node1:\n",
    "        if node1.next is None:\n",
    "            node1.next=node\n",
    "            return head\n",
    "        else:\n",
    "            node1=node1.next"
   ]
  },
  {
   "cell_type": "code",
   "execution_count": 4,
   "metadata": {
    "collapsed": true
   },
   "outputs": [],
   "source": [
    "#Insert element at first in linkedlist\n",
    "\"\"\"\n",
    " Insert Node at the begining of a linked list\n",
    " head input could be None as well for empty list\n",
    " Node is defined as\n",
    "\"\"\" \n",
    "class Node(object):\n",
    " \n",
    "   def __init__(self, data=None, next_node=None):\n",
    "       self.data = data\n",
    "       self.next = next_node\n",
    "\n",
    "def Insert(head, data):\n",
    "    if head is None:\n",
    "        head=Node()\n",
    "        head.data=data\n",
    "        return head\n",
    "    node=Node()\n",
    "    node.data=data\n",
    "    node1=head\n",
    "    node.next=node1\n",
    "    return node"
   ]
  },
  {
   "cell_type": "code",
   "execution_count": null,
   "metadata": {
    "collapsed": true
   },
   "outputs": [],
   "source": []
  }
 ],
 "metadata": {
  "anaconda-cloud": {},
  "kernelspec": {
   "display_name": "Python [conda root]",
   "language": "python",
   "name": "conda-root-py"
  },
  "language_info": {
   "codemirror_mode": {
    "name": "ipython",
    "version": 3
   },
   "file_extension": ".py",
   "mimetype": "text/x-python",
   "name": "python",
   "nbconvert_exporter": "python",
   "pygments_lexer": "ipython3",
   "version": "3.5.3"
  }
 },
 "nbformat": 4,
 "nbformat_minor": 1
}
